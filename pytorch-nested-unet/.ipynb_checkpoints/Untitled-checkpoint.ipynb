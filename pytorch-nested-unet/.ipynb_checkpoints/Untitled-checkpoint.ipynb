{
 "cells": [
  {
   "cell_type": "code",
   "execution_count": 4,
   "metadata": {},
   "outputs": [],
   "source": [
    "import numpy as np\n",
    "import os\n",
    "import matplotlib.pyplot as plt\n",
    "import torchvision\n",
    "import torch\n",
    "from torch import nn\n",
    "import cv2"
   ]
  },
  {
   "cell_type": "code",
   "execution_count": 2,
   "metadata": {},
   "outputs": [],
   "source": [
    "a = np.load('inputs/train_images_20190915/img_002be4f.npy')\n",
    "b = np.load('inputs/train_images_mask_20190915/msk_0011165.npy')"
   ]
  },
  {
   "cell_type": "code",
   "execution_count": null,
   "metadata": {},
   "outputs": [],
   "source": [
    "model = "
   ]
  },
  {
   "cell_type": "code",
   "execution_count": 3,
   "metadata": {},
   "outputs": [
    {
     "data": {
      "text/plain": [
       "array([[0.25077234, 0.15463693, 0.19458033, ..., 0.        , 0.        ,\n",
       "        0.        ],\n",
       "       [0.22863624, 0.13546719, 0.14295384, ..., 0.        , 0.        ,\n",
       "        0.        ],\n",
       "       [0.29563064, 0.14392117, 0.14024436, ..., 0.        , 0.        ,\n",
       "        0.        ],\n",
       "       ...,\n",
       "       [0.        , 0.        , 0.        , ..., 0.25829096, 0.19934128,\n",
       "        0.33722834],\n",
       "       [0.        , 0.        , 0.        , ..., 0.18763499, 0.30947058,\n",
       "        0.44005854],\n",
       "       [0.        , 0.        , 0.        , ..., 0.17505121, 0.38138556,\n",
       "        0.50033869]])"
      ]
     },
     "execution_count": 3,
     "metadata": {},
     "output_type": "execute_result"
    }
   ],
   "source": [
    "a"
   ]
  }
 ],
 "metadata": {
  "kernelspec": {
   "display_name": "Python 3",
   "language": "python",
   "name": "python3"
  },
  "language_info": {
   "codemirror_mode": {
    "name": "ipython",
    "version": 3
   },
   "file_extension": ".py",
   "mimetype": "text/x-python",
   "name": "python",
   "nbconvert_exporter": "python",
   "pygments_lexer": "ipython3",
   "version": "3.6.9"
  }
 },
 "nbformat": 4,
 "nbformat_minor": 4
}
