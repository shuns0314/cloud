{
 "cells": [
  {
   "cell_type": "code",
   "execution_count": 1,
   "metadata": {},
   "outputs": [],
   "source": [
    "import numpy as np\n",
    "import os\n",
    "import matplotlib.pyplot as plt\n",
    "import torchvision\n",
    "import torch\n",
    "from torch import nn\n",
    "import torch.nn.functional as F\n",
    "import cv2\n",
    "import archs\n",
    "import dataset\n",
    "import data_augmentation\n",
    "import skimage.feature\n",
    "import skimage.filters\n",
    "import skimage.exposure"
   ]
  },
  {
   "cell_type": "code",
   "execution_count": 2,
   "metadata": {},
   "outputs": [],
   "source": [
    "a_0 = np.load('inputs/image_train_color_0915/img_002be4f.npy')\n",
    "a_1 = np.load('inputs/image_train_color_0915/img_0011165.npy')"
   ]
  },
  {
   "cell_type": "code",
   "execution_count": 3,
   "metadata": {},
   "outputs": [],
   "source": [
    "b_0 = np.load('inputs/mask_train_color_0915/msk_002be4f.npy')\n",
    "b_1 = np.load('inputs/mask_train_color_0915/msk_0011165.npy')\n",
    "b_0.shape"
   ]
  },
  {
   "cell_type": "code",
   "execution_count": 4,
   "metadata": {},
   "outputs": [],
   "source": [
    "torch.Tensor(a_0).size(0)"
   ]
  },
  {
   "cell_type": "code",
   "execution_count": 5,
   "metadata": {},
   "outputs": [],
   "source": [
    "b_0 = b_0.astype('uint8')"
   ]
  },
  {
   "cell_type": "code",
   "execution_count": 6,
   "metadata": {},
   "outputs": [],
   "source": [
    "a_0 = a_0/255\n",
    "a_1 = a_1/255"
   ]
  },
  {
   "cell_type": "code",
   "execution_count": 7,
   "metadata": {},
   "outputs": [],
   "source": [
    "resize = data_augmentation.Resize()\n",
    "a_0 = a_0.transpose(2, 0, 1)\n",
    "a_0 = resize(a_0)\n",
    "a_0 = a_0.transpose(1, 2, 0)\n",
    "\n",
    "a_1 = a_1.transpose(2, 0, 1)\n",
    "a_1 = resize(a_1)\n",
    "a_1 = a_1.transpose(1, 2, 0)"
   ]
  },
  {
   "cell_type": "code",
   "execution_count": 8,
   "metadata": {},
   "outputs": [],
   "source": [
    "b_0 = resize(b_0)\n",
    "b_0 = b_0.transpose(1, 2, 0)\n",
    "\n",
    "b_1 = resize(b_1)\n",
    "b_1 = b_1.transpose(1, 2, 0)\n",
    "b_0.shape"
   ]
  },
  {
   "cell_type": "code",
   "execution_count": 9,
   "metadata": {},
   "outputs": [],
   "source": [
    "mask = b_1.copy()\n",
    "mask.shape"
   ]
  },
  {
   "cell_type": "code",
   "execution_count": 10,
   "metadata": {},
   "outputs": [],
   "source": [
    "image = a_1.copy()\n",
    "image.shape"
   ]
  },
  {
   "cell_type": "code",
   "execution_count": 11,
   "metadata": {},
   "outputs": [],
   "source": [
    "image = image.transpose(2, 0, 1)\n",
    "mask = mask.transpose(2, 0, 1)\n",
    "image.shape\n",
    "mask.shape"
   ]
  },
  {
   "cell_type": "code",
   "execution_count": 12,
   "metadata": {},
   "outputs": [],
   "source": [
    "mask[0,:,:].astype('uint8')"
   ]
  },
  {
   "cell_type": "code",
   "execution_count": 17,
   "metadata": {},
   "outputs": [],
   "source": [
    "mask.shape"
   ]
  },
  {
   "cell_type": "code",
   "execution_count": 26,
   "metadata": {},
   "outputs": [],
   "source": [
    "plt.imshow(mask[0])"
   ]
  },
  {
   "cell_type": "code",
   "execution_count": 21,
   "metadata": {},
   "outputs": [],
   "source": [
    "plt.imshow(a_1)\n",
    "plt.show()"
   ]
  },
  {
   "cell_type": "code",
   "execution_count": 23,
   "metadata": {},
   "outputs": [],
   "source": [
    "plt.imshow(mask[1])"
   ]
  },
  {
   "cell_type": "code",
   "execution_count": 28,
   "metadata": {},
   "outputs": [],
   "source": [
    "x, y, w, h = cv2.boundingRect(b_0[:,:,0])"
   ]
  },
  {
   "cell_type": "code",
   "execution_count": 29,
   "metadata": {},
   "outputs": [],
   "source": [
    "plt.imshow(a_0[y:y+h, x:x+w,:])"
   ]
  },
  {
   "cell_type": "code",
   "execution_count": 33,
   "metadata": {},
   "outputs": [],
   "source": [
    "plt.imshow(b_0[:, :, 0])"
   ]
  },
  {
   "cell_type": "code",
   "execution_count": 34,
   "metadata": {},
   "outputs": [],
   "source": [
    "plt.imshow(np.stack([b_0[:,:,0],b_0[:,:,0],b_0[:,:,0]]).transpose(1,2,0) * a_0)"
   ]
  },
  {
   "cell_type": "code",
   "execution_count": 36,
   "metadata": {},
   "outputs": [],
   "source": [
    "plt.imshow(np.stack([b_0[:,:,0],b_0[:,:,0],b_0[:,:,0]]).transpose(1,2,0))"
   ]
  },
  {
   "cell_type": "code",
   "execution_count": 37,
   "metadata": {},
   "outputs": [],
   "source": [
    "left = np.where(b_0[:,:,0].mean(axis=1)>0.2)[0][0]\n",
    "right = np.where(b_0[:,:,0].mean(axis=1)>0.2)[0][-1]\n",
    "top = np.where(b_0[:,:,0].mean(axis=0)>0.2)[0][0]\n",
    "bottom = np.where(b_0[:,:,0].mean(axis=0)>0.2)[0][-1]"
   ]
  },
  {
   "cell_type": "code",
   "execution_count": 38,
   "metadata": {},
   "outputs": [],
   "source": [
    "plt.imshow(a_0[left:right, top:bottom, :])"
   ]
  },
  {
   "cell_type": "code",
   "execution_count": 39,
   "metadata": {},
   "outputs": [],
   "source": [
    "plt.figure(figsize=(10,10))\n",
    "plt.subplot(1,2,1)\n",
    "plt.imshow(a_0)\n",
    "plt.subplot(1,2,2)\n",
    "plt.imshow(a_1)\n",
    "plt.show()"
   ]
  },
  {
   "cell_type": "code",
   "execution_count": 42,
   "metadata": {},
   "outputs": [],
   "source": [
    "plt.figure(figsize=(10,10))\n",
    "plt.subplot(1,2,1)\n",
    "plt.imshow(skimage.exposure.adjust_gamma(a_0, gamma=0.8))\n",
    "plt.subplot(1,2,2)\n",
    "plt.imshow(skimage.exposure.adjust_gamma(a_1, gamma=0.8))\n",
    "plt.show()"
   ]
  },
  {
   "cell_type": "code",
   "execution_count": 43,
   "metadata": {},
   "outputs": [],
   "source": [
    "plt.figure(figsize=(10,10))\n",
    "plt.subplot(1,3,1)\n",
    "plt.imshow(a_0[:, :, 0])\n",
    "plt.subplot(1,3,2)\n",
    "plt.imshow(a_0[:, :, 1])\n",
    "plt.subplot(1,3,3)\n",
    "plt.imshow(a_0[:, :, 2])\n",
    "plt.show()"
   ]
  },
  {
   "cell_type": "code",
   "execution_count": 44,
   "metadata": {},
   "outputs": [],
   "source": [
    "plt.figure(figsize=(10,10))\n",
    "plt.subplot(1,3,1)\n",
    "plt.imshow(a_1[:, :, 0])\n",
    "plt.subplot(1,3,2)\n",
    "plt.imshow(a_1[:, :, 1])\n",
    "plt.subplot(1,3,3)\n",
    "plt.imshow(a_1[:, :, 2])\n",
    "plt.show()"
   ]
  },
  {
   "cell_type": "code",
   "execution_count": 45,
   "metadata": {},
   "outputs": [],
   "source": [
    "plt.figure(figsize=(10,10))\n",
    "plt.subplot(1,2,1)\n",
    "plt.imshow(skimage.color.rgb2gray(a_0))\n",
    "plt.subplot(1,2,2)\n",
    "plt.imshow(skimage.color.rgb2gray(a_1))\n",
    "plt.show()"
   ]
  },
  {
   "cell_type": "code",
   "execution_count": 46,
   "metadata": {},
   "outputs": [],
   "source": [
    "plt.figure(figsize=(10,10))\n",
    "plt.subplot(1,2,1)\n",
    "adapt_hist_a_0 = skimage.exposure.equalize_adapthist(skimage.color.rgb2gray(a_0))\n",
    "plt.imshow(adapt_hist_a_0)\n",
    "plt.subplot(1,2,2)\n",
    "adapt_hist_a_1 = skimage.exposure.equalize_adapthist(skimage.color.rgb2gray(a_1))\n",
    "plt.imshow(adapt_hist_a_1)\n",
    "plt.show()"
   ]
  },
  {
   "cell_type": "code",
   "execution_count": 47,
   "metadata": {},
   "outputs": [],
   "source": [
    "plt.figure(figsize=(10,10))\n",
    "plt.subplot(1,2,1)\n",
    "adjust_loss_a_0 = skimage.exposure.adjust_log(skimage.color.rgb2gray(a_0))\n",
    "plt.imshow(adjust_loss_a_0)\n",
    "plt.subplot(1,2,2)\n",
    "adjust_loss_a_1 = skimage.exposure.adjust_log(skimage.color.rgb2gray(a_1))\n",
    "plt.imshow(adjust_loss_a_1)\n",
    "plt.show()"
   ]
  },
  {
   "cell_type": "code",
   "execution_count": 48,
   "metadata": {},
   "outputs": [],
   "source": [
    "def trans_dog(image, sigma_1, sigma2):\n",
    "    gausian_0 = skimage.filters.gaussian(skimage.color.rgb2gray(image), sigma=sigma_1)\n",
    "    gausian_1 = skimage.filters.gaussian(skimage.color.rgb2gray(image), sigma=sigma2)\n",
    "    dog = gausian_0-gausian_1\n",
    "    dog = dog/dog.max()\n",
    "    return dog"
   ]
  },
  {
   "cell_type": "code",
   "execution_count": 49,
   "metadata": {},
   "outputs": [],
   "source": [
    "def load_ben_color(image, sigmaX=10):\n",
    "    image = cv2.cvtColor(image, cv2.COLOR_BGR2RGB)\n",
    "    image = crop_image_from_gray(image)\n",
    "    image = cv2.resize(image, (IMG_SIZE, IMG_SIZE))\n",
    "    image=cv2.addWeighted ( image,4, cv2.GaussianBlur( image , (0,0) , sigmaX) ,-4 ,128)\n",
    "        \n",
    "    return image"
   ]
  },
  {
   "cell_type": "code",
   "execution_count": 51,
   "metadata": {},
   "outputs": [],
   "source": [
    "plt.figure(figsize=(12,10))\n",
    "plt.subplot(1,3,1)\n",
    "plt.imshow(trans_dog(a_0, 1, 0.8))\n",
    "plt.subplot(1,3,2)\n",
    "plt.imshow(trans_dog(a_0, 1, 0.5))\n",
    "plt.subplot(1,3,3)\n",
    "plt.imshow(trans_dog(a_0, 1, 0.2))\n",
    "plt.show()"
   ]
  },
  {
   "cell_type": "code",
   "execution_count": 52,
   "metadata": {},
   "outputs": [],
   "source": [
    "plt.figure(figsize=(12,10))\n",
    "plt.subplot(1,3,1)\n",
    "plt.imshow(trans_dog(a_0, 3, 2))\n",
    "plt.subplot(1,3,2)\n",
    "plt.imshow(trans_dog(a_0, 3, 1))\n",
    "plt.subplot(1,3,3)\n",
    "plt.imshow(trans_dog(a_0, 3, 0.5))\n",
    "plt.show()"
   ]
  },
  {
   "cell_type": "code",
   "execution_count": 53,
   "metadata": {},
   "outputs": [],
   "source": [
    "dog_ = trans_dog(a_0, 1, 0.5)\n",
    "plt.imshow(skimage.exposure.equalize_adapthist(np.where(dog_ > 0, dog_, 0)))"
   ]
  },
  {
   "cell_type": "code",
   "execution_count": 70,
   "metadata": {},
   "outputs": [],
   "source": [
    "plt.figure(figsize=(8,8))\n",
    "a = np.stack([trans_dog(a_0, 1, 0.5), trans_dog(a_0, 1, 0.25),trans_dog(a_0, 1, 0.75)]).transpose(1,2,0)\n",
    "plt.imshow(a)"
   ]
  },
  {
   "cell_type": "code",
   "execution_count": 75,
   "metadata": {},
   "outputs": [],
   "source": [
    "plt.figure(figsize=(8,8))\n",
    "plt.imshow(skimage.exposure.equalize_adapthist(np.where(a > 0, a, 0)))"
   ]
  },
  {
   "cell_type": "code",
   "execution_count": 85,
   "metadata": {},
   "outputs": [],
   "source": [
    "a_0[:, :, 0] a_0[:, :, 0].mean()"
   ]
  },
  {
   "cell_type": "code",
   "execution_count": null,
   "metadata": {},
   "outputs": [],
   "source": [
    "\n"
   ]
  },
  {
   "cell_type": "code",
   "execution_count": 55,
   "metadata": {},
   "outputs": [],
   "source": [
    "plt.imshow(skimage.exposure.adjust_gamma(skimage.color.rgb2gray(a_0), gamma=0.8))"
   ]
  },
  {
   "cell_type": "code",
   "execution_count": 76,
   "metadata": {},
   "outputs": [],
   "source": [
    "a_0_0 = skimage.exposure.equalize_adapthist(skimage.exposure.adjust_log(skimage.color.rgb2gray(a_0)))\n",
    "a_0_1 = skimage.exposure.equalize_adapthist(np.where(dog_ > 0, dog_, 0))\n",
    "a_0_2 = skimage.exposure.equalize_adapthist(skimage.exposure.adjust_gamma(skimage.color.rgb2gray(a_0), gamma=0.8))"
   ]
  },
  {
   "cell_type": "code",
   "execution_count": 77,
   "metadata": {},
   "outputs": [],
   "source": [
    "plt.imshow(a_0_1)"
   ]
  },
  {
   "cell_type": "code",
   "execution_count": 78,
   "metadata": {},
   "outputs": [],
   "source": [
    "plt.imshow(np.stack([a_0_0, a_0_1, a_0_2]).transpose(1,2,0))"
   ]
  },
  {
   "cell_type": "code",
   "execution_count": 79,
   "metadata": {},
   "outputs": [],
   "source": [
    "plt.figure(figsize=(10,10))\n",
    "plt.subplot(1,4,1)\n",
    "plt.imshow(b_0[:, :, 0])\n",
    "plt.subplot(1,4,2)\n",
    "plt.imshow(b_0[:, :, 1])\n",
    "plt.subplot(1,4,3)\n",
    "plt.imshow(b_0[:, :, 2])\n",
    "plt.subplot(1,4,4)\n",
    "plt.imshow(b_0[:, :, 3])\n",
    "plt.show()"
   ]
  },
  {
   "cell_type": "code",
   "execution_count": 80,
   "metadata": {},
   "outputs": [],
   "source": [
    "plt.figure(figsize=(10,10))\n",
    "plt.subplot(1,4,1)\n",
    "plt.imshow(b_1[:, :, 0])\n",
    "plt.subplot(1,4,2)\n",
    "plt.imshow(b_1[:, :, 1])\n",
    "plt.subplot(1,4,3)\n",
    "plt.imshow(b_1[:, :, 2])\n",
    "plt.subplot(1,4,4)\n",
    "plt.imshow(b_1[:, :, 3])\n",
    "plt.show()"
   ]
  },
  {
   "cell_type": "code",
   "execution_count": null,
   "metadata": {},
   "outputs": [],
   "source": []
  },
  {
   "cell_type": "code",
   "execution_count": null,
   "metadata": {},
   "outputs": [],
   "source": [
    "model = archs.ResNet18WithUNet(4)\n",
    "vgg = archs.VGGBlock(in_channels=3, middle_channels=64, out_channels=64)\n",
    "pool = nn.MaxPool2d(2, 2)"
   ]
  },
  {
   "cell_type": "code",
   "execution_count": null,
   "metadata": {},
   "outputs": [],
   "source": [
    "a_0 = torch.Tensor(a_0[0:256, 0:256])\n",
    "a_1 = torch.Tensor(a_0[0:256, 0:256])\n",
    "a_0_0 = a_0.view(1, 3, a_0.shape[0], a_0.shape[1])\n",
    "a_1_0 = a_1.view(1, 3, a_1.shape[0], a_1.shape[1])"
   ]
  },
  {
   "cell_type": "code",
   "execution_count": null,
   "metadata": {},
   "outputs": [],
   "source": [
    "a_0.shape"
   ]
  },
  {
   "cell_type": "code",
   "execution_count": null,
   "metadata": {},
   "outputs": [],
   "source": [
    "a_0 = a_0[0:256, 0:256].transpose(2,0,1)"
   ]
  },
  {
   "cell_type": "code",
   "execution_count": null,
   "metadata": {},
   "outputs": [],
   "source": [
    "a_0.shape"
   ]
  },
  {
   "cell_type": "code",
   "execution_count": null,
   "metadata": {},
   "outputs": [],
   "source": [
    "random_crop = data_augmentation.RandomCrop()\n",
    "random_crop(a_0).shape"
   ]
  },
  {
   "cell_type": "code",
   "execution_count": null,
   "metadata": {},
   "outputs": [],
   "source": [
    "horizon = data_augmentation.Horizontal_flip()\n",
    "horizon(a_0).shape"
   ]
  },
  {
   "cell_type": "code",
   "execution_count": null,
   "metadata": {},
   "outputs": [],
   "source": [
    "vertical = data_augmentation.Vertical_flip()\n",
    "vertical(a_0).shape"
   ]
  },
  {
   "cell_type": "code",
   "execution_count": null,
   "metadata": {},
   "outputs": [],
   "source": [
    "random_crop = dataset.RandomCrop()\n",
    "random_crop(b_0).shape"
   ]
  },
  {
   "cell_type": "code",
   "execution_count": null,
   "metadata": {},
   "outputs": [],
   "source": [
    "torch.Tensor(b_0)"
   ]
  },
  {
   "cell_type": "code",
   "execution_count": null,
   "metadata": {},
   "outputs": [],
   "source": []
  },
  {
   "cell_type": "code",
   "execution_count": null,
   "metadata": {},
   "outputs": [],
   "source": [
    "batch = torch.cat([a_0, a_1])"
   ]
  },
  {
   "cell_type": "code",
   "execution_count": null,
   "metadata": {},
   "outputs": [],
   "source": [
    "batch.shape"
   ]
  },
  {
   "cell_type": "code",
   "execution_count": null,
   "metadata": {},
   "outputs": [],
   "source": [
    "vgg(batch).shape"
   ]
  },
  {
   "cell_type": "code",
   "execution_count": null,
   "metadata": {},
   "outputs": [],
   "source": [
    "convrelu(batch).shape"
   ]
  },
  {
   "cell_type": "code",
   "execution_count": null,
   "metadata": {},
   "outputs": [],
   "source": [
    "pool(vgg(batch)).shape"
   ]
  },
  {
   "cell_type": "code",
   "execution_count": null,
   "metadata": {},
   "outputs": [],
   "source": [
    "vgg(pool(batch)).shape"
   ]
  },
  {
   "cell_type": "code",
   "execution_count": null,
   "metadata": {},
   "outputs": [],
   "source": [
    "model_1 = nn.Sequential(\n",
    "nn.Conv2d(in_channels=3, out_channels = 64, kernel_size=2, stride=2))"
   ]
  },
  {
   "cell_type": "code",
   "execution_count": null,
   "metadata": {},
   "outputs": [],
   "source": [
    "batch.shape"
   ]
  },
  {
   "cell_type": "code",
   "execution_count": null,
   "metadata": {},
   "outputs": [],
   "source": [
    "model_1(batch).shape"
   ]
  },
  {
   "cell_type": "code",
   "execution_count": null,
   "metadata": {},
   "outputs": [],
   "source": [
    "model(batch).shape"
   ]
  }
 ],
 "metadata": {
  "kernelspec": {
   "display_name": "Python 3",
   "language": "python",
   "name": "python3"
  },
  "language_info": {
   "codemirror_mode": {
    "name": "ipython",
    "version": 3
   },
   "file_extension": ".py",
   "mimetype": "text/x-python",
   "name": "python",
   "nbconvert_exporter": "python",
   "pygments_lexer": "ipython3",
   "version": "3.6.9"
  }
 },
 "nbformat": 4,
 "nbformat_minor": 4
}